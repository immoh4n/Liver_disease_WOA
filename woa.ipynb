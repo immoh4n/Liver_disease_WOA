{
 "cells": [
  {
   "cell_type": "code",
   "execution_count": 12,
   "id": "000cfb73-01e4-4f86-aa8c-d3286bfa4838",
   "metadata": {},
   "outputs": [],
   "source": [
    "import numpy as np\n",
    "import pandas as pd\n",
    "from sklearn.metrics import accuracy_score\n",
    "\n",
    "import warnings\n",
    "warnings.filterwarnings(\"ignore\")\n",
    "\n",
    "# Read dataset\n",
    "data = pd.read_csv('Indian_liver_patient.csv')"
   ]
  },
  {
   "cell_type": "code",
   "execution_count": 13,
   "id": "9b4e496f-847b-4e1e-9054-b0385cc69946",
   "metadata": {},
   "outputs": [],
   "source": [
    "# Encode the gender column\n",
    "data.gender = data.gender.map({'Male': 1, 'Female': 0})"
   ]
  },
  {
   "cell_type": "code",
   "execution_count": 14,
   "id": "1c97f8b9-39f5-4114-9185-cfcc3c592b6b",
   "metadata": {},
   "outputs": [
    {
     "data": {
      "text/plain": [
       "age                 0\n",
       "gender              0\n",
       "tot_bilirubin       0\n",
       "direct_bilirubin    0\n",
       "tot_proteins        0\n",
       "albumin             0\n",
       "ag_ratio            0\n",
       "sgpt                0\n",
       "sgot                0\n",
       "alkphos             0\n",
       "is_patient          0\n",
       "dtype: int64"
      ]
     },
     "execution_count": 14,
     "metadata": {},
     "output_type": "execute_result"
    }
   ],
   "source": [
    "data.fillna(data.median(), inplace=True)\n",
    "data.isnull().sum()"
   ]
  },
  {
   "cell_type": "code",
   "execution_count": 15,
   "id": "e13fbec6-4598-454d-821a-4eb38ec0f540",
   "metadata": {},
   "outputs": [],
   "source": [
    "# Assuming the last column contains labels\n",
    "labels = data.is_patient.values\n",
    "\n",
    "# Dropping labels from features\n",
    "features = data.drop(data.columns[-1], axis=1)"
   ]
  },
  {
   "cell_type": "code",
   "execution_count": 16,
   "id": "730340f1-cb13-463e-a30a-0890b3e14b1f",
   "metadata": {},
   "outputs": [],
   "source": [
    "class WOA_LiverDisease:\n",
    "    def __init__(self, max_iter=200, population_size=20, a=0.5, b=1):\n",
    "        self.max_iter = max_iter\n",
    "        self.population_size = population_size\n",
    "        self.a = a\n",
    "        self.b = b\n",
    "\n",
    "    def fit(self, data, labels):\n",
    "        self.data = data\n",
    "        self.labels = labels\n",
    "        # Initialize population with all features selected\n",
    "        self.population = np.ones((self.population_size, data.shape[1]))\n",
    "        \n",
    "        for epoch in range(self.max_iter):\n",
    "            # Update population\n",
    "            self.update_population()\n",
    "\n",
    "        # Select best solution\n",
    "        best_fitness = min(self.evaluate_fitness())\n",
    "        best_index = np.argmin(self.evaluate_fitness())\n",
    "        self.best_solution = self.population[best_index]\n",
    "        self.best_features = self.data.columns[self.best_solution.astype(bool)].tolist()\n",
    "\n",
    "    def update_population(self):\n",
    "        for i in range(self.population_size):\n",
    "            r = np.random.rand()\n",
    "            A = 2 * self.a * r - self.a\n",
    "            C = 2 * r\n",
    "            p = np.random.rand()\n",
    "\n",
    "            if p < 0.5:\n",
    "                if np.abs(A) < 1:\n",
    "                    self.population[i] = self.search_preys(A, C, i)\n",
    "                else:\n",
    "                    rand_leader_index = np.random.randint(0, self.population_size)\n",
    "                    rand_leader = self.population[rand_leader_index]\n",
    "                    self.population[i] = rand_leader + A * (rand_leader - self.population[i])\n",
    "            else:\n",
    "                distance_to_leader = np.abs(self.population[i] - self.population[0])\n",
    "                self.population[i] = distance_to_leader * np.exp(self.b * C) * np.cos(2 * np.pi * C) + self.population[0]\n",
    "\n",
    "    def evaluate_fitness(self):\n",
    "        fitness = []\n",
    "        for solution in self.population:\n",
    "            selected_features = self.data.columns[solution.astype(bool)].tolist()\n",
    "            # Here, you would apply your liver disease prediction model to evaluate the fitness of each solution\n",
    "            # For demonstration purposes, let's assume a simple fitness based on the difference between predicted and actual labels\n",
    "            # Random prediction for demonstration\n",
    "            predicted_labels = np.random.randint(0, 2, size=len(self.labels))  \n",
    "            fitness.append(np.abs(predicted_labels - self.labels).sum())\n",
    "        return fitness\n",
    "        \n",
    "\n",
    "    def search_preys(self, A, C, i):\n",
    "        # Ensure that the solution remains unchanged\n",
    "        return self.population[i]"
   ]
  },
  {
   "cell_type": "code",
   "execution_count": 17,
   "id": "aa39cdf3-57c9-409a-92e9-4934d0fc5b03",
   "metadata": {},
   "outputs": [],
   "source": [
    "# Initialize and fit the model\n",
    "woa_liver_disease = WOA_LiverDisease()\n",
    "woa_liver_disease.fit(features, labels)"
   ]
  },
  {
   "cell_type": "code",
   "execution_count": 18,
   "id": "bbe672f9-fb67-48e6-a464-fe0ccb42fcfc",
   "metadata": {},
   "outputs": [],
   "source": [
    "# Get the best solution and selected features\n",
    "best_solution = woa_liver_disease.best_solution\n",
    "selected_features = woa_liver_disease.best_features"
   ]
  },
  {
   "cell_type": "code",
   "execution_count": 19,
   "id": "dbdd8087-df32-4f6e-9fce-15ec757abcc3",
   "metadata": {},
   "outputs": [],
   "source": [
    "from sklearn.model_selection import train_test_split\n",
    "X_train, X_test, y_train, y_test = train_test_split(features[selected_features], labels, test_size=0.2, random_state=42)\n",
    "\n",
    "# Train your classification model using the selected features\n",
    "from sklearn.ensemble import RandomForestClassifier\n",
    "model = RandomForestClassifier()\n",
    "model.fit(X_train, y_train)\n",
    "\n",
    "# Predict labels for the test set\n",
    "predicted_labels = model.predict(X_test)\n",
    "\n",
    "# Calculate accuracy\n",
    "accuracy = accuracy_score(y_test, predicted_labels)"
   ]
  },
  {
   "cell_type": "code",
   "execution_count": 20,
   "id": "df6bfacf-5868-480d-a8e0-84832e6e4aa1",
   "metadata": {},
   "outputs": [
    {
     "name": "stdout",
     "output_type": "stream",
     "text": [
      "Best solution: [1. 1. 1. 1. 1. 1. 1. 1. 1. 1.]\n",
      "Selected features: ['age', 'gender', 'tot_bilirubin', 'direct_bilirubin', 'tot_proteins', 'albumin', 'ag_ratio', 'sgpt', 'sgot', 'alkphos']\n",
      "Accuracy: 73.50427350427351\n"
     ]
    }
   ],
   "source": [
    "print(\"Best solution:\", best_solution)\n",
    "print(\"Selected features:\", selected_features)\n",
    "print(\"Accuracy:\", accuracy*100)"
   ]
  },
  {
   "cell_type": "code",
   "execution_count": null,
   "id": "a6ad19c9-cd3b-40ee-8620-22ca1d3c575a",
   "metadata": {},
   "outputs": [],
   "source": []
  }
 ],
 "metadata": {
  "kernelspec": {
   "display_name": "Python 3 (ipykernel)",
   "language": "python",
   "name": "python3"
  },
  "language_info": {
   "codemirror_mode": {
    "name": "ipython",
    "version": 3
   },
   "file_extension": ".py",
   "mimetype": "text/x-python",
   "name": "python",
   "nbconvert_exporter": "python",
   "pygments_lexer": "ipython3",
   "version": "3.11.5"
  }
 },
 "nbformat": 4,
 "nbformat_minor": 5
}
